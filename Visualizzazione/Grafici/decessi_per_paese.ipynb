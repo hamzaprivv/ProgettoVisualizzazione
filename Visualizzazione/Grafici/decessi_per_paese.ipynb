{
 "cells": [
  {
   "cell_type": "code",
   "id": "initial_id",
   "metadata": {
    "collapsed": true,
    "ExecuteTime": {
     "end_time": "2025-01-09T21:43:58.249836Z",
     "start_time": "2025-01-09T21:43:58.189832Z"
    }
   },
   "source": [
    "import pandas as pd\n",
    "import plotly.express as px\n",
    "\n",
    "file_path = '../Datasets/country_wise_latest.csv'\n",
    "data = pd.read_csv(file_path)\n",
    "\n",
    "fig = px.choropleth(\n",
    "    data,\n",
    "    locations='Country/Region',\n",
    "    locationmode='country names',\n",
    "    color='Deaths',\n",
    "    color_continuous_scale='pubu',\n",
    "    title='Decessi per paese',\n",
    "    labels={'Deaths': 'Number of Deaths'},\n",
    ")\n",
    "fig.update_traces(\n",
    "    hovertemplate=\"<b>%{location}</b><br>\" +\n",
    "                  \"Decessi: %{customdata[1]:,}<br>\" +\n",
    "                  \"Casi Confermati: %{customdata[0]:,}<br>\" +\n",
    "                  \"<extra></extra>\",\n",
    "    customdata=data[[\"Confirmed\", \"Deaths\", \"Recovered\", \"Active\"]].values\n",
    ")\n",
    "\n",
    "fig.update_layout(\n",
    "   paper_bgcolor='white',\n",
    "   plot_bgcolor='white',\n",
    "    coloraxis_colorbar=dict(\n",
    "        title=\"Deaths\",\n",
    "        tickfont=dict(color='black'),\n",
    "        titlefont=dict(color='black')\n",
    "    ),\n",
    "    font=dict(color='black')\n",
    ")\n",
    "\n",
    "fig.update_geos(\n",
    "    fitbounds=\"locations\",\n",
    "    visible=True,\n",
    "    projection_type=\"natural earth\",\n",
    "    showcoastlines=True,\n",
    "    coastlinecolor=\"black\",\n",
    "    showland=True,\n",
    "    landcolor=\"white\",\n",
    "    showlakes=True,\n",
    "    lakecolor=\"white\",\n",
    "    bgcolor=\"white\",\n",
    ")\n",
    "\n",
    "fig.update_layout(\n",
    "    height=800,\n",
    "    width=1200,\n",
    "    title='Decessi per paese',\n",
    "    title_font=dict(\n",
    "        family='Arial, sans-serif',\n",
    "        size=24,\n",
    "        color='black'\n",
    "    ),\n",
    "    coloraxis_colorbar=dict(\n",
    "        title=dict(\n",
    "            text=\"Numero di decessi\",\n",
    "            side=\"right\",\n",
    "            font=dict(\n",
    "                family='Arial, sans-serif',\n",
    "                size=18,\n",
    "                color='black'\n",
    "            )\n",
    "        ),\n",
    "    ),\n",
    "    plot_bgcolor='white',\n",
    "    paper_bgcolor='white',\n",
    "    font=dict(color='black')\n",
    ")\n",
    "\n",
    "fig.show()\n"
   ],
   "outputs": [
    {
     "data": {
      "application/vnd.plotly.v1+json": {
       "data": [
        {
         "coloraxis": "coloraxis",
         "geo": "geo",
         "hovertemplate": "<b>%{location}</b><br>Decessi: %{customdata[1]:,}<br>Casi Confermati: %{customdata[0]:,}<br><extra></extra>",
         "locationmode": "country names",
         "locations": [
          "Afghanistan",
          "Albania",
          "Algeria",
          "Andorra",
          "Angola",
          "Antigua and Barbuda",
          "Argentina",
          "Armenia",
          "Australia",
          "Austria",
          "Azerbaijan",
          "Bahamas",
          "Bahrain",
          "Bangladesh",
          "Barbados",
          "Belarus",
          "Belgium",
          "Belize",
          "Benin",
          "Bhutan",
          "Bolivia",
          "Bosnia and Herzegovina",
          "Botswana",
          "Brazil",
          "Brunei",
          "Bulgaria",
          "Burkina Faso",
          "Burma",
          "Burundi",
          "Cabo Verde",
          "Cambodia",
          "Cameroon",
          "Canada",
          "Central African Republic",
          "Chad",
          "Chile",
          "China",
          "Colombia",
          "Comoros",
          "Congo (Brazzaville)",
          "Congo (Kinshasa)",
          "Costa Rica",
          "Cote d'Ivoire",
          "Croatia",
          "Cuba",
          "Cyprus",
          "Czechia",
          "Denmark",
          "Djibouti",
          "Dominica",
          "Dominican Republic",
          "Ecuador",
          "Egypt",
          "El Salvador",
          "Equatorial Guinea",
          "Eritrea",
          "Estonia",
          "Eswatini",
          "Ethiopia",
          "Fiji",
          "Finland",
          "France",
          "Gabon",
          "Gambia",
          "Georgia",
          "Germany",
          "Ghana",
          "Greece",
          "Greenland",
          "Grenada",
          "Guatemala",
          "Guinea",
          "Guinea-Bissau",
          "Guyana",
          "Haiti",
          "Holy See",
          "Honduras",
          "Hungary",
          "Iceland",
          "India",
          "Indonesia",
          "Iran",
          "Iraq",
          "Ireland",
          "Israel",
          "Italy",
          "Jamaica",
          "Japan",
          "Jordan",
          "Kazakhstan",
          "Kenya",
          "Kosovo",
          "Kuwait",
          "Kyrgyzstan",
          "Laos",
          "Latvia",
          "Lebanon",
          "Lesotho",
          "Liberia",
          "Libya",
          "Liechtenstein",
          "Lithuania",
          "Luxembourg",
          "Madagascar",
          "Malawi",
          "Malaysia",
          "Maldives",
          "Mali",
          "Malta",
          "Mauritania",
          "Mauritius",
          "Mexico",
          "Moldova",
          "Monaco",
          "Mongolia",
          "Montenegro",
          "Morocco",
          "Mozambique",
          "Namibia",
          "Nepal",
          "Netherlands",
          "New Zealand",
          "Nicaragua",
          "Niger",
          "Nigeria",
          "North Macedonia",
          "Norway",
          "Oman",
          "Pakistan",
          "Panama",
          "Papua New Guinea",
          "Paraguay",
          "Peru",
          "Philippines",
          "Poland",
          "Portugal",
          "Qatar",
          "Romania",
          "Russia",
          "Rwanda",
          "Saint Kitts and Nevis",
          "Saint Lucia",
          "Saint Vincent and the Grenadines",
          "San Marino",
          "Sao Tome and Principe",
          "Saudi Arabia",
          "Senegal",
          "Serbia",
          "Seychelles",
          "Sierra Leone",
          "Singapore",
          "Slovakia",
          "Slovenia",
          "Somalia",
          "South Africa",
          "South Korea",
          "South Sudan",
          "Spain",
          "Sri Lanka",
          "Sudan",
          "Suriname",
          "Sweden",
          "Switzerland",
          "Syria",
          "Taiwan*",
          "Tajikistan",
          "Tanzania",
          "Thailand",
          "Timor-Leste",
          "Togo",
          "Trinidad and Tobago",
          "Tunisia",
          "Turkey",
          "US",
          "Uganda",
          "Ukraine",
          "United Arab Emirates",
          "United Kingdom",
          "Uruguay",
          "Uzbekistan",
          "Venezuela",
          "Vietnam",
          "West Bank and Gaza",
          "Western Sahara",
          "Yemen",
          "Zambia",
          "Zimbabwe"
         ],
         "name": "",
         "z": [
          1269,
          144,
          1163,
          52,
          41,
          3,
          3059,
          711,
          167,
          713,
          423,
          11,
          141,
          2965,
          7,
          538,
          9822,
          2,
          35,
          0,
          2647,
          294,
          2,
          87618,
          3,
          347,
          53,
          6,
          1,
          22,
          0,
          391,
          8944,
          59,
          75,
          9187,
          4656,
          8777,
          7,
          54,
          208,
          115,
          96,
          139,
          87,
          19,
          373,
          613,
          58,
          0,
          1083,
          5532,
          4652,
          408,
          51,
          0,
          69,
          34,
          228,
          0,
          329,
          30212,
          49,
          8,
          16,
          9125,
          168,
          202,
          0,
          0,
          1761,
          45,
          26,
          20,
          158,
          0,
          1166,
          596,
          10,
          33408,
          4838,
          15912,
          4458,
          1764,
          474,
          35112,
          10,
          998,
          11,
          585,
          285,
          185,
          438,
          1301,
          0,
          31,
          51,
          12,
          72,
          64,
          1,
          80,
          112,
          91,
          99,
          124,
          15,
          124,
          9,
          156,
          10,
          44022,
          748,
          4,
          0,
          45,
          316,
          11,
          8,
          48,
          6160,
          22,
          108,
          69,
          860,
          466,
          255,
          393,
          5842,
          1322,
          0,
          43,
          18418,
          1945,
          1676,
          1719,
          165,
          2206,
          13334,
          5,
          0,
          0,
          0,
          42,
          14,
          2760,
          194,
          543,
          0,
          66,
          27,
          28,
          116,
          93,
          7067,
          300,
          46,
          28432,
          11,
          720,
          24,
          5700,
          1978,
          40,
          7,
          60,
          21,
          58,
          0,
          18,
          8,
          50,
          5630,
          148011,
          2,
          1636,
          345,
          45844,
          35,
          121,
          146,
          0,
          78,
          1,
          483,
          140,
          36
         ],
         "type": "choropleth",
         "customdata": [
          [
           36263,
           1269,
           25198,
           9796
          ],
          [
           4880,
           144,
           2745,
           1991
          ],
          [
           27973,
           1163,
           18837,
           7973
          ],
          [
           907,
           52,
           803,
           52
          ],
          [
           950,
           41,
           242,
           667
          ],
          [
           86,
           3,
           65,
           18
          ],
          [
           167416,
           3059,
           72575,
           91782
          ],
          [
           37390,
           711,
           26665,
           10014
          ],
          [
           15303,
           167,
           9311,
           5825
          ],
          [
           20558,
           713,
           18246,
           1599
          ],
          [
           30446,
           423,
           23242,
           6781
          ],
          [
           382,
           11,
           91,
           280
          ],
          [
           39482,
           141,
           36110,
           3231
          ],
          [
           226225,
           2965,
           125683,
           97577
          ],
          [
           110,
           7,
           94,
           9
          ],
          [
           67251,
           538,
           60492,
           6221
          ],
          [
           66428,
           9822,
           17452,
           39154
          ],
          [
           48,
           2,
           26,
           20
          ],
          [
           1770,
           35,
           1036,
           699
          ],
          [
           99,
           0,
           86,
           13
          ],
          [
           71181,
           2647,
           21478,
           47056
          ],
          [
           10498,
           294,
           4930,
           5274
          ],
          [
           739,
           2,
           63,
           674
          ],
          [
           2442375,
           87618,
           1846641,
           508116
          ],
          [
           141,
           3,
           138,
           0
          ],
          [
           10621,
           347,
           5585,
           4689
          ],
          [
           1100,
           53,
           926,
           121
          ],
          [
           350,
           6,
           292,
           52
          ],
          [
           378,
           1,
           301,
           76
          ],
          [
           2328,
           22,
           1550,
           756
          ],
          [
           226,
           0,
           147,
           79
          ],
          [
           17110,
           391,
           14539,
           2180
          ],
          [
           116458,
           8944,
           0,
           107514
          ],
          [
           4599,
           59,
           1546,
           2994
          ],
          [
           922,
           75,
           810,
           37
          ],
          [
           347923,
           9187,
           319954,
           18782
          ],
          [
           86783,
           4656,
           78869,
           3258
          ],
          [
           257101,
           8777,
           131161,
           117163
          ],
          [
           354,
           7,
           328,
           19
          ],
          [
           3200,
           54,
           829,
           2317
          ],
          [
           8844,
           208,
           5700,
           2936
          ],
          [
           15841,
           115,
           3824,
           11902
          ],
          [
           15655,
           96,
           10361,
           5198
          ],
          [
           4881,
           139,
           3936,
           806
          ],
          [
           2532,
           87,
           2351,
           94
          ],
          [
           1060,
           19,
           852,
           189
          ],
          [
           15516,
           373,
           11428,
           3715
          ],
          [
           13761,
           613,
           12605,
           543
          ],
          [
           5059,
           58,
           4977,
           24
          ],
          [
           18,
           0,
           18,
           0
          ],
          [
           64156,
           1083,
           30204,
           32869
          ],
          [
           81161,
           5532,
           34896,
           40733
          ],
          [
           92482,
           4652,
           34838,
           52992
          ],
          [
           15035,
           408,
           7778,
           6849
          ],
          [
           3071,
           51,
           842,
           2178
          ],
          [
           265,
           0,
           191,
           74
          ],
          [
           2034,
           69,
           1923,
           42
          ],
          [
           2316,
           34,
           1025,
           1257
          ],
          [
           14547,
           228,
           6386,
           7933
          ],
          [
           27,
           0,
           18,
           9
          ],
          [
           7398,
           329,
           6920,
           149
          ],
          [
           220352,
           30212,
           81212,
           108928
          ],
          [
           7189,
           49,
           4682,
           2458
          ],
          [
           326,
           8,
           66,
           252
          ],
          [
           1137,
           16,
           922,
           199
          ],
          [
           207112,
           9125,
           190314,
           7673
          ],
          [
           33624,
           168,
           29801,
           3655
          ],
          [
           4227,
           202,
           1374,
           2651
          ],
          [
           14,
           0,
           13,
           1
          ],
          [
           23,
           0,
           23,
           0
          ],
          [
           45309,
           1761,
           32455,
           11093
          ],
          [
           7055,
           45,
           6257,
           753
          ],
          [
           1954,
           26,
           803,
           1125
          ],
          [
           389,
           20,
           181,
           188
          ],
          [
           7340,
           158,
           4365,
           2817
          ],
          [
           12,
           0,
           12,
           0
          ],
          [
           39741,
           1166,
           5039,
           33536
          ],
          [
           4448,
           596,
           3329,
           523
          ],
          [
           1854,
           10,
           1823,
           21
          ],
          [
           1480073,
           33408,
           951166,
           495499
          ],
          [
           100303,
           4838,
           58173,
           37292
          ],
          [
           293606,
           15912,
           255144,
           22550
          ],
          [
           112585,
           4458,
           77144,
           30983
          ],
          [
           25892,
           1764,
           23364,
           764
          ],
          [
           63985,
           474,
           27133,
           36378
          ],
          [
           246286,
           35112,
           198593,
           12581
          ],
          [
           853,
           10,
           714,
           129
          ],
          [
           31142,
           998,
           21970,
           8174
          ],
          [
           1176,
           11,
           1041,
           124
          ],
          [
           84648,
           585,
           54404,
           29659
          ],
          [
           17975,
           285,
           7833,
           9857
          ],
          [
           7413,
           185,
           4027,
           3201
          ],
          [
           64379,
           438,
           55057,
           8884
          ],
          [
           33296,
           1301,
           21205,
           10790
          ],
          [
           20,
           0,
           19,
           1
          ],
          [
           1219,
           31,
           1045,
           143
          ],
          [
           3882,
           51,
           1709,
           2122
          ],
          [
           505,
           12,
           128,
           365
          ],
          [
           1167,
           72,
           646,
           449
          ],
          [
           2827,
           64,
           577,
           2186
          ],
          [
           86,
           1,
           81,
           4
          ],
          [
           2019,
           80,
           1620,
           319
          ],
          [
           6321,
           112,
           4825,
           1384
          ],
          [
           9690,
           91,
           6260,
           3339
          ],
          [
           3664,
           99,
           1645,
           1920
          ],
          [
           8904,
           124,
           8601,
           179
          ],
          [
           3369,
           15,
           2547,
           807
          ],
          [
           2513,
           124,
           1913,
           476
          ],
          [
           701,
           9,
           665,
           27
          ],
          [
           6208,
           156,
           4653,
           1399
          ],
          [
           344,
           10,
           332,
           2
          ],
          [
           395489,
           44022,
           303810,
           47657
          ],
          [
           23154,
           748,
           16154,
           6252
          ],
          [
           116,
           4,
           104,
           8
          ],
          [
           289,
           0,
           222,
           67
          ],
          [
           2893,
           45,
           809,
           2039
          ],
          [
           20887,
           316,
           16553,
           4018
          ],
          [
           1701,
           11,
           0,
           1690
          ],
          [
           1843,
           8,
           101,
           1734
          ],
          [
           18752,
           48,
           13754,
           4950
          ],
          [
           53413,
           6160,
           189,
           47064
          ],
          [
           1557,
           22,
           1514,
           21
          ],
          [
           3439,
           108,
           2492,
           839
          ],
          [
           1132,
           69,
           1027,
           36
          ],
          [
           41180,
           860,
           18203,
           22117
          ],
          [
           10213,
           466,
           5564,
           4183
          ],
          [
           9132,
           255,
           8752,
           125
          ],
          [
           77058,
           393,
           57028,
           19637
          ],
          [
           274289,
           5842,
           241026,
           27421
          ],
          [
           61442,
           1322,
           35086,
           25034
          ],
          [
           62,
           0,
           11,
           51
          ],
          [
           4548,
           43,
           2905,
           1600
          ],
          [
           389717,
           18418,
           272547,
           98752
          ],
          [
           82040,
           1945,
           26446,
           53649
          ],
          [
           43402,
           1676,
           32856,
           8870
          ],
          [
           50299,
           1719,
           35375,
           13205
          ],
          [
           109597,
           165,
           106328,
           3104
          ],
          [
           45902,
           2206,
           25794,
           17902
          ],
          [
           816680,
           13334,
           602249,
           201097
          ],
          [
           1879,
           5,
           975,
           899
          ],
          [
           17,
           0,
           15,
           2
          ],
          [
           24,
           0,
           22,
           2
          ],
          [
           52,
           0,
           39,
           13
          ],
          [
           699,
           42,
           657,
           0
          ],
          [
           865,
           14,
           734,
           117
          ],
          [
           268934,
           2760,
           222936,
           43238
          ],
          [
           9764,
           194,
           6477,
           3093
          ],
          [
           24141,
           543,
           0,
           23598
          ],
          [
           114,
           0,
           39,
           75
          ],
          [
           1783,
           66,
           1317,
           400
          ],
          [
           50838,
           27,
           45692,
           5119
          ],
          [
           2181,
           28,
           1616,
           537
          ],
          [
           2087,
           116,
           1733,
           238
          ],
          [
           3196,
           93,
           1543,
           1560
          ],
          [
           452529,
           7067,
           274925,
           170537
          ],
          [
           14203,
           300,
           13007,
           896
          ],
          [
           2305,
           46,
           1175,
           1084
          ],
          [
           272421,
           28432,
           150376,
           93613
          ],
          [
           2805,
           11,
           2121,
           673
          ],
          [
           11424,
           720,
           5939,
           4765
          ],
          [
           1483,
           24,
           925,
           534
          ],
          [
           79395,
           5700,
           0,
           73695
          ],
          [
           34477,
           1978,
           30900,
           1599
          ],
          [
           674,
           40,
           0,
           634
          ],
          [
           462,
           7,
           440,
           15
          ],
          [
           7235,
           60,
           6028,
           1147
          ],
          [
           509,
           21,
           183,
           305
          ],
          [
           3297,
           58,
           3111,
           128
          ],
          [
           24,
           0,
           0,
           24
          ],
          [
           874,
           18,
           607,
           249
          ],
          [
           148,
           8,
           128,
           12
          ],
          [
           1455,
           50,
           1157,
           248
          ],
          [
           227019,
           5630,
           210469,
           10920
          ],
          [
           4290259,
           148011,
           1325804,
           2816444
          ],
          [
           1128,
           2,
           986,
           140
          ],
          [
           67096,
           1636,
           37202,
           28258
          ],
          [
           59177,
           345,
           52510,
           6322
          ],
          [
           301708,
           45844,
           1437,
           254427
          ],
          [
           1202,
           35,
           951,
           216
          ],
          [
           21209,
           121,
           11674,
           9414
          ],
          [
           15988,
           146,
           9959,
           5883
          ],
          [
           431,
           0,
           365,
           66
          ],
          [
           10621,
           78,
           3752,
           6791
          ],
          [
           10,
           1,
           8,
           1
          ],
          [
           1691,
           483,
           833,
           375
          ],
          [
           4552,
           140,
           2815,
           1597
          ],
          [
           2704,
           36,
           542,
           2126
          ]
         ]
        }
       ],
       "layout": {
        "template": {
         "data": {
          "histogram2dcontour": [
           {
            "type": "histogram2dcontour",
            "colorbar": {
             "outlinewidth": 0,
             "ticks": ""
            },
            "colorscale": [
             [
              0.0,
              "#0d0887"
             ],
             [
              0.1111111111111111,
              "#46039f"
             ],
             [
              0.2222222222222222,
              "#7201a8"
             ],
             [
              0.3333333333333333,
              "#9c179e"
             ],
             [
              0.4444444444444444,
              "#bd3786"
             ],
             [
              0.5555555555555556,
              "#d8576b"
             ],
             [
              0.6666666666666666,
              "#ed7953"
             ],
             [
              0.7777777777777778,
              "#fb9f3a"
             ],
             [
              0.8888888888888888,
              "#fdca26"
             ],
             [
              1.0,
              "#f0f921"
             ]
            ]
           }
          ],
          "choropleth": [
           {
            "type": "choropleth",
            "colorbar": {
             "outlinewidth": 0,
             "ticks": ""
            }
           }
          ],
          "histogram2d": [
           {
            "type": "histogram2d",
            "colorbar": {
             "outlinewidth": 0,
             "ticks": ""
            },
            "colorscale": [
             [
              0.0,
              "#0d0887"
             ],
             [
              0.1111111111111111,
              "#46039f"
             ],
             [
              0.2222222222222222,
              "#7201a8"
             ],
             [
              0.3333333333333333,
              "#9c179e"
             ],
             [
              0.4444444444444444,
              "#bd3786"
             ],
             [
              0.5555555555555556,
              "#d8576b"
             ],
             [
              0.6666666666666666,
              "#ed7953"
             ],
             [
              0.7777777777777778,
              "#fb9f3a"
             ],
             [
              0.8888888888888888,
              "#fdca26"
             ],
             [
              1.0,
              "#f0f921"
             ]
            ]
           }
          ],
          "heatmap": [
           {
            "type": "heatmap",
            "colorbar": {
             "outlinewidth": 0,
             "ticks": ""
            },
            "colorscale": [
             [
              0.0,
              "#0d0887"
             ],
             [
              0.1111111111111111,
              "#46039f"
             ],
             [
              0.2222222222222222,
              "#7201a8"
             ],
             [
              0.3333333333333333,
              "#9c179e"
             ],
             [
              0.4444444444444444,
              "#bd3786"
             ],
             [
              0.5555555555555556,
              "#d8576b"
             ],
             [
              0.6666666666666666,
              "#ed7953"
             ],
             [
              0.7777777777777778,
              "#fb9f3a"
             ],
             [
              0.8888888888888888,
              "#fdca26"
             ],
             [
              1.0,
              "#f0f921"
             ]
            ]
           }
          ],
          "heatmapgl": [
           {
            "type": "heatmapgl",
            "colorbar": {
             "outlinewidth": 0,
             "ticks": ""
            },
            "colorscale": [
             [
              0.0,
              "#0d0887"
             ],
             [
              0.1111111111111111,
              "#46039f"
             ],
             [
              0.2222222222222222,
              "#7201a8"
             ],
             [
              0.3333333333333333,
              "#9c179e"
             ],
             [
              0.4444444444444444,
              "#bd3786"
             ],
             [
              0.5555555555555556,
              "#d8576b"
             ],
             [
              0.6666666666666666,
              "#ed7953"
             ],
             [
              0.7777777777777778,
              "#fb9f3a"
             ],
             [
              0.8888888888888888,
              "#fdca26"
             ],
             [
              1.0,
              "#f0f921"
             ]
            ]
           }
          ],
          "contourcarpet": [
           {
            "type": "contourcarpet",
            "colorbar": {
             "outlinewidth": 0,
             "ticks": ""
            }
           }
          ],
          "contour": [
           {
            "type": "contour",
            "colorbar": {
             "outlinewidth": 0,
             "ticks": ""
            },
            "colorscale": [
             [
              0.0,
              "#0d0887"
             ],
             [
              0.1111111111111111,
              "#46039f"
             ],
             [
              0.2222222222222222,
              "#7201a8"
             ],
             [
              0.3333333333333333,
              "#9c179e"
             ],
             [
              0.4444444444444444,
              "#bd3786"
             ],
             [
              0.5555555555555556,
              "#d8576b"
             ],
             [
              0.6666666666666666,
              "#ed7953"
             ],
             [
              0.7777777777777778,
              "#fb9f3a"
             ],
             [
              0.8888888888888888,
              "#fdca26"
             ],
             [
              1.0,
              "#f0f921"
             ]
            ]
           }
          ],
          "surface": [
           {
            "type": "surface",
            "colorbar": {
             "outlinewidth": 0,
             "ticks": ""
            },
            "colorscale": [
             [
              0.0,
              "#0d0887"
             ],
             [
              0.1111111111111111,
              "#46039f"
             ],
             [
              0.2222222222222222,
              "#7201a8"
             ],
             [
              0.3333333333333333,
              "#9c179e"
             ],
             [
              0.4444444444444444,
              "#bd3786"
             ],
             [
              0.5555555555555556,
              "#d8576b"
             ],
             [
              0.6666666666666666,
              "#ed7953"
             ],
             [
              0.7777777777777778,
              "#fb9f3a"
             ],
             [
              0.8888888888888888,
              "#fdca26"
             ],
             [
              1.0,
              "#f0f921"
             ]
            ]
           }
          ],
          "mesh3d": [
           {
            "type": "mesh3d",
            "colorbar": {
             "outlinewidth": 0,
             "ticks": ""
            }
           }
          ],
          "scatter": [
           {
            "marker": {
             "line": {
              "color": "#283442"
             }
            },
            "type": "scatter"
           }
          ],
          "parcoords": [
           {
            "type": "parcoords",
            "line": {
             "colorbar": {
              "outlinewidth": 0,
              "ticks": ""
             }
            }
           }
          ],
          "scatterpolargl": [
           {
            "type": "scatterpolargl",
            "marker": {
             "colorbar": {
              "outlinewidth": 0,
              "ticks": ""
             }
            }
           }
          ],
          "bar": [
           {
            "error_x": {
             "color": "#f2f5fa"
            },
            "error_y": {
             "color": "#f2f5fa"
            },
            "marker": {
             "line": {
              "color": "rgb(17,17,17)",
              "width": 0.5
             },
             "pattern": {
              "fillmode": "overlay",
              "size": 10,
              "solidity": 0.2
             }
            },
            "type": "bar"
           }
          ],
          "scattergeo": [
           {
            "type": "scattergeo",
            "marker": {
             "colorbar": {
              "outlinewidth": 0,
              "ticks": ""
             }
            }
           }
          ],
          "scatterpolar": [
           {
            "type": "scatterpolar",
            "marker": {
             "colorbar": {
              "outlinewidth": 0,
              "ticks": ""
             }
            }
           }
          ],
          "histogram": [
           {
            "marker": {
             "pattern": {
              "fillmode": "overlay",
              "size": 10,
              "solidity": 0.2
             }
            },
            "type": "histogram"
           }
          ],
          "scattergl": [
           {
            "marker": {
             "line": {
              "color": "#283442"
             }
            },
            "type": "scattergl"
           }
          ],
          "scatter3d": [
           {
            "type": "scatter3d",
            "line": {
             "colorbar": {
              "outlinewidth": 0,
              "ticks": ""
             }
            },
            "marker": {
             "colorbar": {
              "outlinewidth": 0,
              "ticks": ""
             }
            }
           }
          ],
          "scattermapbox": [
           {
            "type": "scattermapbox",
            "marker": {
             "colorbar": {
              "outlinewidth": 0,
              "ticks": ""
             }
            }
           }
          ],
          "scatterternary": [
           {
            "type": "scatterternary",
            "marker": {
             "colorbar": {
              "outlinewidth": 0,
              "ticks": ""
             }
            }
           }
          ],
          "scattercarpet": [
           {
            "type": "scattercarpet",
            "marker": {
             "colorbar": {
              "outlinewidth": 0,
              "ticks": ""
             }
            }
           }
          ],
          "carpet": [
           {
            "aaxis": {
             "endlinecolor": "#A2B1C6",
             "gridcolor": "#506784",
             "linecolor": "#506784",
             "minorgridcolor": "#506784",
             "startlinecolor": "#A2B1C6"
            },
            "baxis": {
             "endlinecolor": "#A2B1C6",
             "gridcolor": "#506784",
             "linecolor": "#506784",
             "minorgridcolor": "#506784",
             "startlinecolor": "#A2B1C6"
            },
            "type": "carpet"
           }
          ],
          "table": [
           {
            "cells": {
             "fill": {
              "color": "#506784"
             },
             "line": {
              "color": "rgb(17,17,17)"
             }
            },
            "header": {
             "fill": {
              "color": "#2a3f5f"
             },
             "line": {
              "color": "rgb(17,17,17)"
             }
            },
            "type": "table"
           }
          ],
          "barpolar": [
           {
            "marker": {
             "line": {
              "color": "rgb(17,17,17)",
              "width": 0.5
             },
             "pattern": {
              "fillmode": "overlay",
              "size": 10,
              "solidity": 0.2
             }
            },
            "type": "barpolar"
           }
          ],
          "pie": [
           {
            "automargin": true,
            "type": "pie"
           }
          ]
         },
         "layout": {
          "autotypenumbers": "strict",
          "colorway": [
           "#636efa",
           "#EF553B",
           "#00cc96",
           "#ab63fa",
           "#FFA15A",
           "#19d3f3",
           "#FF6692",
           "#B6E880",
           "#FF97FF",
           "#FECB52"
          ],
          "font": {
           "color": "#f2f5fa"
          },
          "hovermode": "closest",
          "hoverlabel": {
           "align": "left"
          },
          "paper_bgcolor": "rgb(17,17,17)",
          "plot_bgcolor": "rgb(17,17,17)",
          "polar": {
           "bgcolor": "rgb(17,17,17)",
           "angularaxis": {
            "gridcolor": "#506784",
            "linecolor": "#506784",
            "ticks": ""
           },
           "radialaxis": {
            "gridcolor": "#506784",
            "linecolor": "#506784",
            "ticks": ""
           }
          },
          "ternary": {
           "bgcolor": "rgb(17,17,17)",
           "aaxis": {
            "gridcolor": "#506784",
            "linecolor": "#506784",
            "ticks": ""
           },
           "baxis": {
            "gridcolor": "#506784",
            "linecolor": "#506784",
            "ticks": ""
           },
           "caxis": {
            "gridcolor": "#506784",
            "linecolor": "#506784",
            "ticks": ""
           }
          },
          "coloraxis": {
           "colorbar": {
            "outlinewidth": 0,
            "ticks": ""
           }
          },
          "colorscale": {
           "sequential": [
            [
             0.0,
             "#0d0887"
            ],
            [
             0.1111111111111111,
             "#46039f"
            ],
            [
             0.2222222222222222,
             "#7201a8"
            ],
            [
             0.3333333333333333,
             "#9c179e"
            ],
            [
             0.4444444444444444,
             "#bd3786"
            ],
            [
             0.5555555555555556,
             "#d8576b"
            ],
            [
             0.6666666666666666,
             "#ed7953"
            ],
            [
             0.7777777777777778,
             "#fb9f3a"
            ],
            [
             0.8888888888888888,
             "#fdca26"
            ],
            [
             1.0,
             "#f0f921"
            ]
           ],
           "sequentialminus": [
            [
             0.0,
             "#0d0887"
            ],
            [
             0.1111111111111111,
             "#46039f"
            ],
            [
             0.2222222222222222,
             "#7201a8"
            ],
            [
             0.3333333333333333,
             "#9c179e"
            ],
            [
             0.4444444444444444,
             "#bd3786"
            ],
            [
             0.5555555555555556,
             "#d8576b"
            ],
            [
             0.6666666666666666,
             "#ed7953"
            ],
            [
             0.7777777777777778,
             "#fb9f3a"
            ],
            [
             0.8888888888888888,
             "#fdca26"
            ],
            [
             1.0,
             "#f0f921"
            ]
           ],
           "diverging": [
            [
             0,
             "#8e0152"
            ],
            [
             0.1,
             "#c51b7d"
            ],
            [
             0.2,
             "#de77ae"
            ],
            [
             0.3,
             "#f1b6da"
            ],
            [
             0.4,
             "#fde0ef"
            ],
            [
             0.5,
             "#f7f7f7"
            ],
            [
             0.6,
             "#e6f5d0"
            ],
            [
             0.7,
             "#b8e186"
            ],
            [
             0.8,
             "#7fbc41"
            ],
            [
             0.9,
             "#4d9221"
            ],
            [
             1,
             "#276419"
            ]
           ]
          },
          "xaxis": {
           "gridcolor": "#283442",
           "linecolor": "#506784",
           "ticks": "",
           "title": {
            "standoff": 15
           },
           "zerolinecolor": "#283442",
           "automargin": true,
           "zerolinewidth": 2
          },
          "yaxis": {
           "gridcolor": "#283442",
           "linecolor": "#506784",
           "ticks": "",
           "title": {
            "standoff": 15
           },
           "zerolinecolor": "#283442",
           "automargin": true,
           "zerolinewidth": 2
          },
          "scene": {
           "xaxis": {
            "backgroundcolor": "rgb(17,17,17)",
            "gridcolor": "#506784",
            "linecolor": "#506784",
            "showbackground": true,
            "ticks": "",
            "zerolinecolor": "#C8D4E3",
            "gridwidth": 2
           },
           "yaxis": {
            "backgroundcolor": "rgb(17,17,17)",
            "gridcolor": "#506784",
            "linecolor": "#506784",
            "showbackground": true,
            "ticks": "",
            "zerolinecolor": "#C8D4E3",
            "gridwidth": 2
           },
           "zaxis": {
            "backgroundcolor": "rgb(17,17,17)",
            "gridcolor": "#506784",
            "linecolor": "#506784",
            "showbackground": true,
            "ticks": "",
            "zerolinecolor": "#C8D4E3",
            "gridwidth": 2
           }
          },
          "shapedefaults": {
           "line": {
            "color": "#f2f5fa"
           }
          },
          "annotationdefaults": {
           "arrowcolor": "#f2f5fa",
           "arrowhead": 0,
           "arrowwidth": 1
          },
          "geo": {
           "bgcolor": "rgb(17,17,17)",
           "landcolor": "rgb(17,17,17)",
           "subunitcolor": "#506784",
           "showland": true,
           "showlakes": true,
           "lakecolor": "rgb(17,17,17)"
          },
          "title": {
           "x": 0.05
          },
          "updatemenudefaults": {
           "bgcolor": "#506784",
           "borderwidth": 0
          },
          "sliderdefaults": {
           "bgcolor": "#C8D4E3",
           "borderwidth": 1,
           "bordercolor": "rgb(17,17,17)",
           "tickwidth": 0
          },
          "mapbox": {
           "style": "dark"
          }
         }
        },
        "geo": {
         "domain": {
          "x": [
           0.0,
           1.0
          ],
          "y": [
           0.0,
           1.0
          ]
         },
         "center": {},
         "projection": {
          "type": "natural earth"
         },
         "fitbounds": "locations",
         "visible": true,
         "showcoastlines": true,
         "coastlinecolor": "black",
         "showland": true,
         "landcolor": "white",
         "showlakes": true,
         "lakecolor": "white",
         "bgcolor": "white"
        },
        "coloraxis": {
         "colorbar": {
          "title": {
           "text": "Numero di decessi",
           "font": {
            "color": "black",
            "family": "Arial, sans-serif",
            "size": 18
           },
           "side": "right"
          },
          "tickfont": {
           "color": "black"
          }
         },
         "colorscale": [
          [
           0.0,
           "rgb(255,247,251)"
          ],
          [
           0.125,
           "rgb(236,231,242)"
          ],
          [
           0.25,
           "rgb(208,209,230)"
          ],
          [
           0.375,
           "rgb(166,189,219)"
          ],
          [
           0.5,
           "rgb(116,169,207)"
          ],
          [
           0.625,
           "rgb(54,144,192)"
          ],
          [
           0.75,
           "rgb(5,112,176)"
          ],
          [
           0.875,
           "rgb(4,90,141)"
          ],
          [
           1.0,
           "rgb(2,56,88)"
          ]
         ]
        },
        "legend": {
         "tracegroupgap": 0
        },
        "title": {
         "text": "Decessi per paese",
         "font": {
          "family": "Arial, sans-serif",
          "size": 24,
          "color": "black"
         }
        },
        "font": {
         "color": "black"
        },
        "paper_bgcolor": "white",
        "plot_bgcolor": "white",
        "height": 800,
        "width": 1200
       },
       "config": {
        "plotlyServerURL": "https://plot.ly"
       }
      },
      "text/html": [
       "<div>                            <div id=\"2d16070e-e19d-4923-9e00-4765cfe77ce9\" class=\"plotly-graph-div\" style=\"height:800px; width:1200px;\"></div>            <script type=\"text/javascript\">                require([\"plotly\"], function(Plotly) {                    window.PLOTLYENV=window.PLOTLYENV || {};                                    if (document.getElementById(\"2d16070e-e19d-4923-9e00-4765cfe77ce9\")) {                    Plotly.newPlot(                        \"2d16070e-e19d-4923-9e00-4765cfe77ce9\",                        [{\"coloraxis\":\"coloraxis\",\"geo\":\"geo\",\"hovertemplate\":\"\\u003cb\\u003e%{location}\\u003c\\u002fb\\u003e\\u003cbr\\u003eDecessi: %{customdata[1]:,}\\u003cbr\\u003eCasi Confermati: %{customdata[0]:,}\\u003cbr\\u003e\\u003cextra\\u003e\\u003c\\u002fextra\\u003e\",\"locationmode\":\"country names\",\"locations\":[\"Afghanistan\",\"Albania\",\"Algeria\",\"Andorra\",\"Angola\",\"Antigua and Barbuda\",\"Argentina\",\"Armenia\",\"Australia\",\"Austria\",\"Azerbaijan\",\"Bahamas\",\"Bahrain\",\"Bangladesh\",\"Barbados\",\"Belarus\",\"Belgium\",\"Belize\",\"Benin\",\"Bhutan\",\"Bolivia\",\"Bosnia and Herzegovina\",\"Botswana\",\"Brazil\",\"Brunei\",\"Bulgaria\",\"Burkina Faso\",\"Burma\",\"Burundi\",\"Cabo Verde\",\"Cambodia\",\"Cameroon\",\"Canada\",\"Central African Republic\",\"Chad\",\"Chile\",\"China\",\"Colombia\",\"Comoros\",\"Congo (Brazzaville)\",\"Congo (Kinshasa)\",\"Costa Rica\",\"Cote d'Ivoire\",\"Croatia\",\"Cuba\",\"Cyprus\",\"Czechia\",\"Denmark\",\"Djibouti\",\"Dominica\",\"Dominican Republic\",\"Ecuador\",\"Egypt\",\"El Salvador\",\"Equatorial Guinea\",\"Eritrea\",\"Estonia\",\"Eswatini\",\"Ethiopia\",\"Fiji\",\"Finland\",\"France\",\"Gabon\",\"Gambia\",\"Georgia\",\"Germany\",\"Ghana\",\"Greece\",\"Greenland\",\"Grenada\",\"Guatemala\",\"Guinea\",\"Guinea-Bissau\",\"Guyana\",\"Haiti\",\"Holy See\",\"Honduras\",\"Hungary\",\"Iceland\",\"India\",\"Indonesia\",\"Iran\",\"Iraq\",\"Ireland\",\"Israel\",\"Italy\",\"Jamaica\",\"Japan\",\"Jordan\",\"Kazakhstan\",\"Kenya\",\"Kosovo\",\"Kuwait\",\"Kyrgyzstan\",\"Laos\",\"Latvia\",\"Lebanon\",\"Lesotho\",\"Liberia\",\"Libya\",\"Liechtenstein\",\"Lithuania\",\"Luxembourg\",\"Madagascar\",\"Malawi\",\"Malaysia\",\"Maldives\",\"Mali\",\"Malta\",\"Mauritania\",\"Mauritius\",\"Mexico\",\"Moldova\",\"Monaco\",\"Mongolia\",\"Montenegro\",\"Morocco\",\"Mozambique\",\"Namibia\",\"Nepal\",\"Netherlands\",\"New Zealand\",\"Nicaragua\",\"Niger\",\"Nigeria\",\"North Macedonia\",\"Norway\",\"Oman\",\"Pakistan\",\"Panama\",\"Papua New Guinea\",\"Paraguay\",\"Peru\",\"Philippines\",\"Poland\",\"Portugal\",\"Qatar\",\"Romania\",\"Russia\",\"Rwanda\",\"Saint Kitts and Nevis\",\"Saint Lucia\",\"Saint Vincent and the Grenadines\",\"San Marino\",\"Sao Tome and Principe\",\"Saudi Arabia\",\"Senegal\",\"Serbia\",\"Seychelles\",\"Sierra Leone\",\"Singapore\",\"Slovakia\",\"Slovenia\",\"Somalia\",\"South Africa\",\"South Korea\",\"South Sudan\",\"Spain\",\"Sri Lanka\",\"Sudan\",\"Suriname\",\"Sweden\",\"Switzerland\",\"Syria\",\"Taiwan*\",\"Tajikistan\",\"Tanzania\",\"Thailand\",\"Timor-Leste\",\"Togo\",\"Trinidad and Tobago\",\"Tunisia\",\"Turkey\",\"US\",\"Uganda\",\"Ukraine\",\"United Arab Emirates\",\"United Kingdom\",\"Uruguay\",\"Uzbekistan\",\"Venezuela\",\"Vietnam\",\"West Bank and Gaza\",\"Western Sahara\",\"Yemen\",\"Zambia\",\"Zimbabwe\"],\"name\":\"\",\"z\":[1269,144,1163,52,41,3,3059,711,167,713,423,11,141,2965,7,538,9822,2,35,0,2647,294,2,87618,3,347,53,6,1,22,0,391,8944,59,75,9187,4656,8777,7,54,208,115,96,139,87,19,373,613,58,0,1083,5532,4652,408,51,0,69,34,228,0,329,30212,49,8,16,9125,168,202,0,0,1761,45,26,20,158,0,1166,596,10,33408,4838,15912,4458,1764,474,35112,10,998,11,585,285,185,438,1301,0,31,51,12,72,64,1,80,112,91,99,124,15,124,9,156,10,44022,748,4,0,45,316,11,8,48,6160,22,108,69,860,466,255,393,5842,1322,0,43,18418,1945,1676,1719,165,2206,13334,5,0,0,0,42,14,2760,194,543,0,66,27,28,116,93,7067,300,46,28432,11,720,24,5700,1978,40,7,60,21,58,0,18,8,50,5630,148011,2,1636,345,45844,35,121,146,0,78,1,483,140,36],\"type\":\"choropleth\",\"customdata\":[[36263,1269,25198,9796],[4880,144,2745,1991],[27973,1163,18837,7973],[907,52,803,52],[950,41,242,667],[86,3,65,18],[167416,3059,72575,91782],[37390,711,26665,10014],[15303,167,9311,5825],[20558,713,18246,1599],[30446,423,23242,6781],[382,11,91,280],[39482,141,36110,3231],[226225,2965,125683,97577],[110,7,94,9],[67251,538,60492,6221],[66428,9822,17452,39154],[48,2,26,20],[1770,35,1036,699],[99,0,86,13],[71181,2647,21478,47056],[10498,294,4930,5274],[739,2,63,674],[2442375,87618,1846641,508116],[141,3,138,0],[10621,347,5585,4689],[1100,53,926,121],[350,6,292,52],[378,1,301,76],[2328,22,1550,756],[226,0,147,79],[17110,391,14539,2180],[116458,8944,0,107514],[4599,59,1546,2994],[922,75,810,37],[347923,9187,319954,18782],[86783,4656,78869,3258],[257101,8777,131161,117163],[354,7,328,19],[3200,54,829,2317],[8844,208,5700,2936],[15841,115,3824,11902],[15655,96,10361,5198],[4881,139,3936,806],[2532,87,2351,94],[1060,19,852,189],[15516,373,11428,3715],[13761,613,12605,543],[5059,58,4977,24],[18,0,18,0],[64156,1083,30204,32869],[81161,5532,34896,40733],[92482,4652,34838,52992],[15035,408,7778,6849],[3071,51,842,2178],[265,0,191,74],[2034,69,1923,42],[2316,34,1025,1257],[14547,228,6386,7933],[27,0,18,9],[7398,329,6920,149],[220352,30212,81212,108928],[7189,49,4682,2458],[326,8,66,252],[1137,16,922,199],[207112,9125,190314,7673],[33624,168,29801,3655],[4227,202,1374,2651],[14,0,13,1],[23,0,23,0],[45309,1761,32455,11093],[7055,45,6257,753],[1954,26,803,1125],[389,20,181,188],[7340,158,4365,2817],[12,0,12,0],[39741,1166,5039,33536],[4448,596,3329,523],[1854,10,1823,21],[1480073,33408,951166,495499],[100303,4838,58173,37292],[293606,15912,255144,22550],[112585,4458,77144,30983],[25892,1764,23364,764],[63985,474,27133,36378],[246286,35112,198593,12581],[853,10,714,129],[31142,998,21970,8174],[1176,11,1041,124],[84648,585,54404,29659],[17975,285,7833,9857],[7413,185,4027,3201],[64379,438,55057,8884],[33296,1301,21205,10790],[20,0,19,1],[1219,31,1045,143],[3882,51,1709,2122],[505,12,128,365],[1167,72,646,449],[2827,64,577,2186],[86,1,81,4],[2019,80,1620,319],[6321,112,4825,1384],[9690,91,6260,3339],[3664,99,1645,1920],[8904,124,8601,179],[3369,15,2547,807],[2513,124,1913,476],[701,9,665,27],[6208,156,4653,1399],[344,10,332,2],[395489,44022,303810,47657],[23154,748,16154,6252],[116,4,104,8],[289,0,222,67],[2893,45,809,2039],[20887,316,16553,4018],[1701,11,0,1690],[1843,8,101,1734],[18752,48,13754,4950],[53413,6160,189,47064],[1557,22,1514,21],[3439,108,2492,839],[1132,69,1027,36],[41180,860,18203,22117],[10213,466,5564,4183],[9132,255,8752,125],[77058,393,57028,19637],[274289,5842,241026,27421],[61442,1322,35086,25034],[62,0,11,51],[4548,43,2905,1600],[389717,18418,272547,98752],[82040,1945,26446,53649],[43402,1676,32856,8870],[50299,1719,35375,13205],[109597,165,106328,3104],[45902,2206,25794,17902],[816680,13334,602249,201097],[1879,5,975,899],[17,0,15,2],[24,0,22,2],[52,0,39,13],[699,42,657,0],[865,14,734,117],[268934,2760,222936,43238],[9764,194,6477,3093],[24141,543,0,23598],[114,0,39,75],[1783,66,1317,400],[50838,27,45692,5119],[2181,28,1616,537],[2087,116,1733,238],[3196,93,1543,1560],[452529,7067,274925,170537],[14203,300,13007,896],[2305,46,1175,1084],[272421,28432,150376,93613],[2805,11,2121,673],[11424,720,5939,4765],[1483,24,925,534],[79395,5700,0,73695],[34477,1978,30900,1599],[674,40,0,634],[462,7,440,15],[7235,60,6028,1147],[509,21,183,305],[3297,58,3111,128],[24,0,0,24],[874,18,607,249],[148,8,128,12],[1455,50,1157,248],[227019,5630,210469,10920],[4290259,148011,1325804,2816444],[1128,2,986,140],[67096,1636,37202,28258],[59177,345,52510,6322],[301708,45844,1437,254427],[1202,35,951,216],[21209,121,11674,9414],[15988,146,9959,5883],[431,0,365,66],[10621,78,3752,6791],[10,1,8,1],[1691,483,833,375],[4552,140,2815,1597],[2704,36,542,2126]]}],                        {\"template\":{\"data\":{\"histogram2dcontour\":[{\"type\":\"histogram2dcontour\",\"colorbar\":{\"outlinewidth\":0,\"ticks\":\"\"},\"colorscale\":[[0.0,\"#0d0887\"],[0.1111111111111111,\"#46039f\"],[0.2222222222222222,\"#7201a8\"],[0.3333333333333333,\"#9c179e\"],[0.4444444444444444,\"#bd3786\"],[0.5555555555555556,\"#d8576b\"],[0.6666666666666666,\"#ed7953\"],[0.7777777777777778,\"#fb9f3a\"],[0.8888888888888888,\"#fdca26\"],[1.0,\"#f0f921\"]]}],\"choropleth\":[{\"type\":\"choropleth\",\"colorbar\":{\"outlinewidth\":0,\"ticks\":\"\"}}],\"histogram2d\":[{\"type\":\"histogram2d\",\"colorbar\":{\"outlinewidth\":0,\"ticks\":\"\"},\"colorscale\":[[0.0,\"#0d0887\"],[0.1111111111111111,\"#46039f\"],[0.2222222222222222,\"#7201a8\"],[0.3333333333333333,\"#9c179e\"],[0.4444444444444444,\"#bd3786\"],[0.5555555555555556,\"#d8576b\"],[0.6666666666666666,\"#ed7953\"],[0.7777777777777778,\"#fb9f3a\"],[0.8888888888888888,\"#fdca26\"],[1.0,\"#f0f921\"]]}],\"heatmap\":[{\"type\":\"heatmap\",\"colorbar\":{\"outlinewidth\":0,\"ticks\":\"\"},\"colorscale\":[[0.0,\"#0d0887\"],[0.1111111111111111,\"#46039f\"],[0.2222222222222222,\"#7201a8\"],[0.3333333333333333,\"#9c179e\"],[0.4444444444444444,\"#bd3786\"],[0.5555555555555556,\"#d8576b\"],[0.6666666666666666,\"#ed7953\"],[0.7777777777777778,\"#fb9f3a\"],[0.8888888888888888,\"#fdca26\"],[1.0,\"#f0f921\"]]}],\"heatmapgl\":[{\"type\":\"heatmapgl\",\"colorbar\":{\"outlinewidth\":0,\"ticks\":\"\"},\"colorscale\":[[0.0,\"#0d0887\"],[0.1111111111111111,\"#46039f\"],[0.2222222222222222,\"#7201a8\"],[0.3333333333333333,\"#9c179e\"],[0.4444444444444444,\"#bd3786\"],[0.5555555555555556,\"#d8576b\"],[0.6666666666666666,\"#ed7953\"],[0.7777777777777778,\"#fb9f3a\"],[0.8888888888888888,\"#fdca26\"],[1.0,\"#f0f921\"]]}],\"contourcarpet\":[{\"type\":\"contourcarpet\",\"colorbar\":{\"outlinewidth\":0,\"ticks\":\"\"}}],\"contour\":[{\"type\":\"contour\",\"colorbar\":{\"outlinewidth\":0,\"ticks\":\"\"},\"colorscale\":[[0.0,\"#0d0887\"],[0.1111111111111111,\"#46039f\"],[0.2222222222222222,\"#7201a8\"],[0.3333333333333333,\"#9c179e\"],[0.4444444444444444,\"#bd3786\"],[0.5555555555555556,\"#d8576b\"],[0.6666666666666666,\"#ed7953\"],[0.7777777777777778,\"#fb9f3a\"],[0.8888888888888888,\"#fdca26\"],[1.0,\"#f0f921\"]]}],\"surface\":[{\"type\":\"surface\",\"colorbar\":{\"outlinewidth\":0,\"ticks\":\"\"},\"colorscale\":[[0.0,\"#0d0887\"],[0.1111111111111111,\"#46039f\"],[0.2222222222222222,\"#7201a8\"],[0.3333333333333333,\"#9c179e\"],[0.4444444444444444,\"#bd3786\"],[0.5555555555555556,\"#d8576b\"],[0.6666666666666666,\"#ed7953\"],[0.7777777777777778,\"#fb9f3a\"],[0.8888888888888888,\"#fdca26\"],[1.0,\"#f0f921\"]]}],\"mesh3d\":[{\"type\":\"mesh3d\",\"colorbar\":{\"outlinewidth\":0,\"ticks\":\"\"}}],\"scatter\":[{\"marker\":{\"line\":{\"color\":\"#283442\"}},\"type\":\"scatter\"}],\"parcoords\":[{\"type\":\"parcoords\",\"line\":{\"colorbar\":{\"outlinewidth\":0,\"ticks\":\"\"}}}],\"scatterpolargl\":[{\"type\":\"scatterpolargl\",\"marker\":{\"colorbar\":{\"outlinewidth\":0,\"ticks\":\"\"}}}],\"bar\":[{\"error_x\":{\"color\":\"#f2f5fa\"},\"error_y\":{\"color\":\"#f2f5fa\"},\"marker\":{\"line\":{\"color\":\"rgb(17,17,17)\",\"width\":0.5},\"pattern\":{\"fillmode\":\"overlay\",\"size\":10,\"solidity\":0.2}},\"type\":\"bar\"}],\"scattergeo\":[{\"type\":\"scattergeo\",\"marker\":{\"colorbar\":{\"outlinewidth\":0,\"ticks\":\"\"}}}],\"scatterpolar\":[{\"type\":\"scatterpolar\",\"marker\":{\"colorbar\":{\"outlinewidth\":0,\"ticks\":\"\"}}}],\"histogram\":[{\"marker\":{\"pattern\":{\"fillmode\":\"overlay\",\"size\":10,\"solidity\":0.2}},\"type\":\"histogram\"}],\"scattergl\":[{\"marker\":{\"line\":{\"color\":\"#283442\"}},\"type\":\"scattergl\"}],\"scatter3d\":[{\"type\":\"scatter3d\",\"line\":{\"colorbar\":{\"outlinewidth\":0,\"ticks\":\"\"}},\"marker\":{\"colorbar\":{\"outlinewidth\":0,\"ticks\":\"\"}}}],\"scattermapbox\":[{\"type\":\"scattermapbox\",\"marker\":{\"colorbar\":{\"outlinewidth\":0,\"ticks\":\"\"}}}],\"scatterternary\":[{\"type\":\"scatterternary\",\"marker\":{\"colorbar\":{\"outlinewidth\":0,\"ticks\":\"\"}}}],\"scattercarpet\":[{\"type\":\"scattercarpet\",\"marker\":{\"colorbar\":{\"outlinewidth\":0,\"ticks\":\"\"}}}],\"carpet\":[{\"aaxis\":{\"endlinecolor\":\"#A2B1C6\",\"gridcolor\":\"#506784\",\"linecolor\":\"#506784\",\"minorgridcolor\":\"#506784\",\"startlinecolor\":\"#A2B1C6\"},\"baxis\":{\"endlinecolor\":\"#A2B1C6\",\"gridcolor\":\"#506784\",\"linecolor\":\"#506784\",\"minorgridcolor\":\"#506784\",\"startlinecolor\":\"#A2B1C6\"},\"type\":\"carpet\"}],\"table\":[{\"cells\":{\"fill\":{\"color\":\"#506784\"},\"line\":{\"color\":\"rgb(17,17,17)\"}},\"header\":{\"fill\":{\"color\":\"#2a3f5f\"},\"line\":{\"color\":\"rgb(17,17,17)\"}},\"type\":\"table\"}],\"barpolar\":[{\"marker\":{\"line\":{\"color\":\"rgb(17,17,17)\",\"width\":0.5},\"pattern\":{\"fillmode\":\"overlay\",\"size\":10,\"solidity\":0.2}},\"type\":\"barpolar\"}],\"pie\":[{\"automargin\":true,\"type\":\"pie\"}]},\"layout\":{\"autotypenumbers\":\"strict\",\"colorway\":[\"#636efa\",\"#EF553B\",\"#00cc96\",\"#ab63fa\",\"#FFA15A\",\"#19d3f3\",\"#FF6692\",\"#B6E880\",\"#FF97FF\",\"#FECB52\"],\"font\":{\"color\":\"#f2f5fa\"},\"hovermode\":\"closest\",\"hoverlabel\":{\"align\":\"left\"},\"paper_bgcolor\":\"rgb(17,17,17)\",\"plot_bgcolor\":\"rgb(17,17,17)\",\"polar\":{\"bgcolor\":\"rgb(17,17,17)\",\"angularaxis\":{\"gridcolor\":\"#506784\",\"linecolor\":\"#506784\",\"ticks\":\"\"},\"radialaxis\":{\"gridcolor\":\"#506784\",\"linecolor\":\"#506784\",\"ticks\":\"\"}},\"ternary\":{\"bgcolor\":\"rgb(17,17,17)\",\"aaxis\":{\"gridcolor\":\"#506784\",\"linecolor\":\"#506784\",\"ticks\":\"\"},\"baxis\":{\"gridcolor\":\"#506784\",\"linecolor\":\"#506784\",\"ticks\":\"\"},\"caxis\":{\"gridcolor\":\"#506784\",\"linecolor\":\"#506784\",\"ticks\":\"\"}},\"coloraxis\":{\"colorbar\":{\"outlinewidth\":0,\"ticks\":\"\"}},\"colorscale\":{\"sequential\":[[0.0,\"#0d0887\"],[0.1111111111111111,\"#46039f\"],[0.2222222222222222,\"#7201a8\"],[0.3333333333333333,\"#9c179e\"],[0.4444444444444444,\"#bd3786\"],[0.5555555555555556,\"#d8576b\"],[0.6666666666666666,\"#ed7953\"],[0.7777777777777778,\"#fb9f3a\"],[0.8888888888888888,\"#fdca26\"],[1.0,\"#f0f921\"]],\"sequentialminus\":[[0.0,\"#0d0887\"],[0.1111111111111111,\"#46039f\"],[0.2222222222222222,\"#7201a8\"],[0.3333333333333333,\"#9c179e\"],[0.4444444444444444,\"#bd3786\"],[0.5555555555555556,\"#d8576b\"],[0.6666666666666666,\"#ed7953\"],[0.7777777777777778,\"#fb9f3a\"],[0.8888888888888888,\"#fdca26\"],[1.0,\"#f0f921\"]],\"diverging\":[[0,\"#8e0152\"],[0.1,\"#c51b7d\"],[0.2,\"#de77ae\"],[0.3,\"#f1b6da\"],[0.4,\"#fde0ef\"],[0.5,\"#f7f7f7\"],[0.6,\"#e6f5d0\"],[0.7,\"#b8e186\"],[0.8,\"#7fbc41\"],[0.9,\"#4d9221\"],[1,\"#276419\"]]},\"xaxis\":{\"gridcolor\":\"#283442\",\"linecolor\":\"#506784\",\"ticks\":\"\",\"title\":{\"standoff\":15},\"zerolinecolor\":\"#283442\",\"automargin\":true,\"zerolinewidth\":2},\"yaxis\":{\"gridcolor\":\"#283442\",\"linecolor\":\"#506784\",\"ticks\":\"\",\"title\":{\"standoff\":15},\"zerolinecolor\":\"#283442\",\"automargin\":true,\"zerolinewidth\":2},\"scene\":{\"xaxis\":{\"backgroundcolor\":\"rgb(17,17,17)\",\"gridcolor\":\"#506784\",\"linecolor\":\"#506784\",\"showbackground\":true,\"ticks\":\"\",\"zerolinecolor\":\"#C8D4E3\",\"gridwidth\":2},\"yaxis\":{\"backgroundcolor\":\"rgb(17,17,17)\",\"gridcolor\":\"#506784\",\"linecolor\":\"#506784\",\"showbackground\":true,\"ticks\":\"\",\"zerolinecolor\":\"#C8D4E3\",\"gridwidth\":2},\"zaxis\":{\"backgroundcolor\":\"rgb(17,17,17)\",\"gridcolor\":\"#506784\",\"linecolor\":\"#506784\",\"showbackground\":true,\"ticks\":\"\",\"zerolinecolor\":\"#C8D4E3\",\"gridwidth\":2}},\"shapedefaults\":{\"line\":{\"color\":\"#f2f5fa\"}},\"annotationdefaults\":{\"arrowcolor\":\"#f2f5fa\",\"arrowhead\":0,\"arrowwidth\":1},\"geo\":{\"bgcolor\":\"rgb(17,17,17)\",\"landcolor\":\"rgb(17,17,17)\",\"subunitcolor\":\"#506784\",\"showland\":true,\"showlakes\":true,\"lakecolor\":\"rgb(17,17,17)\"},\"title\":{\"x\":0.05},\"updatemenudefaults\":{\"bgcolor\":\"#506784\",\"borderwidth\":0},\"sliderdefaults\":{\"bgcolor\":\"#C8D4E3\",\"borderwidth\":1,\"bordercolor\":\"rgb(17,17,17)\",\"tickwidth\":0},\"mapbox\":{\"style\":\"dark\"}}},\"geo\":{\"domain\":{\"x\":[0.0,1.0],\"y\":[0.0,1.0]},\"center\":{},\"projection\":{\"type\":\"natural earth\"},\"fitbounds\":\"locations\",\"visible\":true,\"showcoastlines\":true,\"coastlinecolor\":\"black\",\"showland\":true,\"landcolor\":\"white\",\"showlakes\":true,\"lakecolor\":\"white\",\"bgcolor\":\"white\"},\"coloraxis\":{\"colorbar\":{\"title\":{\"text\":\"Numero di decessi\",\"font\":{\"color\":\"black\",\"family\":\"Arial, sans-serif\",\"size\":18},\"side\":\"right\"},\"tickfont\":{\"color\":\"black\"}},\"colorscale\":[[0.0,\"rgb(255,247,251)\"],[0.125,\"rgb(236,231,242)\"],[0.25,\"rgb(208,209,230)\"],[0.375,\"rgb(166,189,219)\"],[0.5,\"rgb(116,169,207)\"],[0.625,\"rgb(54,144,192)\"],[0.75,\"rgb(5,112,176)\"],[0.875,\"rgb(4,90,141)\"],[1.0,\"rgb(2,56,88)\"]]},\"legend\":{\"tracegroupgap\":0},\"title\":{\"text\":\"Decessi per paese\",\"font\":{\"family\":\"Arial, sans-serif\",\"size\":24,\"color\":\"black\"}},\"font\":{\"color\":\"black\"},\"paper_bgcolor\":\"white\",\"plot_bgcolor\":\"white\",\"height\":800,\"width\":1200},                        {\"responsive\": true}                    ).then(function(){\n",
       "                            \n",
       "var gd = document.getElementById('2d16070e-e19d-4923-9e00-4765cfe77ce9');\n",
       "var x = new MutationObserver(function (mutations, observer) {{\n",
       "        var display = window.getComputedStyle(gd).display;\n",
       "        if (!display || display === 'none') {{\n",
       "            console.log([gd, 'removed!']);\n",
       "            Plotly.purge(gd);\n",
       "            observer.disconnect();\n",
       "        }}\n",
       "}});\n",
       "\n",
       "// Listen for the removal of the full notebook cells\n",
       "var notebookContainer = gd.closest('#notebook-container');\n",
       "if (notebookContainer) {{\n",
       "    x.observe(notebookContainer, {childList: true});\n",
       "}}\n",
       "\n",
       "// Listen for the clearing of the current output cell\n",
       "var outputEl = gd.closest('.output');\n",
       "if (outputEl) {{\n",
       "    x.observe(outputEl, {childList: true});\n",
       "}}\n",
       "\n",
       "                        })                };                });            </script>        </div>"
      ]
     },
     "metadata": {},
     "output_type": "display_data"
    }
   ],
   "execution_count": 4
  }
 ],
 "metadata": {
  "kernelspec": {
   "display_name": "Python 3",
   "language": "python",
   "name": "python3"
  },
  "language_info": {
   "codemirror_mode": {
    "name": "ipython",
    "version": 2
   },
   "file_extension": ".py",
   "mimetype": "text/x-python",
   "name": "python",
   "nbconvert_exporter": "python",
   "pygments_lexer": "ipython2",
   "version": "2.7.6"
  }
 },
 "nbformat": 4,
 "nbformat_minor": 5
}
